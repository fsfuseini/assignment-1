{
 "cells": [
  {
   "cell_type": "markdown",
   "metadata": {},
   "source": [
    "import pandas"
   ]
  },
  {
   "cell_type": "code",
   "execution_count": 3,
   "metadata": {},
   "outputs": [],
   "source": [
    "import pandas as pd"
   ]
  },
  {
   "cell_type": "markdown",
   "metadata": {},
   "source": [
    "Loading the dataset"
   ]
  },
  {
   "cell_type": "code",
   "execution_count": 4,
   "metadata": {},
   "outputs": [
    {
     "name": "stdout",
     "output_type": "stream",
     "text": [
      "Loading the dataset...\n",
      "Dataset loaded successfully! Previewing the first few rows...\n",
      "  student_id       name  age  gender            course enrollment_date  \\\n",
      "0      S0001  Student_1   30  Female      Data Science      2023-03-22   \n",
      "1      S0002  Student_2   33  Female      Data Science      2023-01-29   \n",
      "2      S0003  Student_3   39  Female  Data Engineering      2023-12-24   \n",
      "3      S0004  Student_4   18    Male  Data Engineering      2023-01-09   \n",
      "4      S0005  Student_5   21  Female   Cloud Computing      2023-05-26   \n",
      "\n",
      "   final_grade is_intern  \n",
      "0           97        No  \n",
      "1           64        No  \n",
      "2           97        No  \n",
      "3           89       Yes  \n",
      "4           65        No  \n"
     ]
    }
   ],
   "source": [
    "print(\"Loading the dataset...\")\n",
    "df = pd.read_csv(\"student_dataset.csv\")\n",
    "\n",
    "print(\"Dataset loaded successfully! Previewing the first few rows...\")\n",
    "print(df.head())"
   ]
  },
  {
   "cell_type": "markdown",
   "metadata": {},
   "source": [
    "Identify and Handle Missing Values"
   ]
  },
  {
   "cell_type": "code",
   "execution_count": 5,
   "metadata": {},
   "outputs": [
    {
     "name": "stdout",
     "output_type": "stream",
     "text": [
      "Checking for missing values...\n",
      "student_id         0\n",
      "name               0\n",
      "age                0\n",
      "gender             0\n",
      "course             0\n",
      "enrollment_date    0\n",
      "final_grade        0\n",
      "is_intern          0\n",
      "dtype: int64\n"
     ]
    }
   ],
   "source": [
    "print(\"Checking for missing values...\")\n",
    "print(df.isnull().sum())"
   ]
  },
  {
   "cell_type": "markdown",
   "metadata": {},
   "source": [
    "Filling missing values in the 'age' column with the median age"
   ]
  },
  {
   "cell_type": "code",
   "execution_count": 7,
   "metadata": {},
   "outputs": [],
   "source": [
    "df['age'] = df['age'].fillna(df['age'].median())"
   ]
  },
  {
   "cell_type": "markdown",
   "metadata": {},
   "source": [
    "Drop rows with missing values in the 'enrollment_date' column"
   ]
  },
  {
   "cell_type": "code",
   "execution_count": 8,
   "metadata": {},
   "outputs": [],
   "source": [
    "df = df.dropna(subset=['enrollment_date'])"
   ]
  },
  {
   "cell_type": "markdown",
   "metadata": {},
   "source": [
    "Standardize Data Types"
   ]
  },
  {
   "cell_type": "code",
   "execution_count": 9,
   "metadata": {},
   "outputs": [],
   "source": [
    "df['enrollment_date'] = pd.to_datetime(df['enrollment_date'])\n",
    "df['age'] = df['age'].astype(int)\n",
    "df['final_grade'] = df['final_grade'].astype(int)"
   ]
  },
  {
   "cell_type": "markdown",
   "metadata": {},
   "source": [
    "Normalize Data"
   ]
  },
  {
   "cell_type": "code",
   "execution_count": 11,
   "metadata": {},
   "outputs": [],
   "source": [
    "df['course'] = df['course'].str.lower()"
   ]
  },
  {
   "cell_type": "markdown",
   "metadata": {},
   "source": [
    "Filter unwanted data"
   ]
  },
  {
   "cell_type": "code",
   "execution_count": 12,
   "metadata": {},
   "outputs": [],
   "source": [
    "df = df[(df['age'] >= 18) & (df['age'] <= 45)]"
   ]
  },
  {
   "cell_type": "markdown",
   "metadata": {},
   "source": [
    "Correct Inconsistent Entries"
   ]
  },
  {
   "cell_type": "code",
   "execution_count": 16,
   "metadata": {},
   "outputs": [],
   "source": [
    "df['is_intern'] = df['is_intern'].map({'Yes': True, 'No': False})"
   ]
  },
  {
   "cell_type": "markdown",
   "metadata": {},
   "source": [
    "Save cleaned data"
   ]
  },
  {
   "cell_type": "code",
   "execution_count": 18,
   "metadata": {},
   "outputs": [
    {
     "name": "stdout",
     "output_type": "stream",
     "text": [
      "Dataset cleaned and saved to cleaned_student_dataset.csv\n",
      "    student_id          name  age  gender            course enrollment_date  \\\n",
      "0        S0001     Student_1   30  Female      data science      2023-03-22   \n",
      "1        S0002     Student_2   33  Female      data science      2023-01-29   \n",
      "2        S0003     Student_3   39  Female  data engineering      2023-12-24   \n",
      "3        S0004     Student_4   18    Male  data engineering      2023-01-09   \n",
      "4        S0005     Student_5   21  Female   cloud computing      2023-05-26   \n",
      "..         ...           ...  ...     ...               ...             ...   \n",
      "995      S0996   Student_996   25  Female  data engineering      2023-05-25   \n",
      "996      S0997   Student_997   40    Male   ai fundamentals      2023-08-15   \n",
      "997      S0998   Student_998   20  Female   cloud computing      2023-04-22   \n",
      "998      S0999   Student_999   40  Female   cloud computing      2023-07-04   \n",
      "999      S1000  Student_1000   34    Male   ai fundamentals      2023-09-09   \n",
      "\n",
      "     final_grade  is_intern  \n",
      "0             97        NaN  \n",
      "1             64        NaN  \n",
      "2             97        NaN  \n",
      "3             89        NaN  \n",
      "4             65        NaN  \n",
      "..           ...        ...  \n",
      "995           52        NaN  \n",
      "996           90        NaN  \n",
      "997          100        NaN  \n",
      "998           67        NaN  \n",
      "999           90        NaN  \n",
      "\n",
      "[1000 rows x 8 columns]\n"
     ]
    }
   ],
   "source": [
    "df.to_csv('cleaned_student_dataset.csv', index=False)\n",
    "\n",
    "print(\"Dataset cleaned and saved to cleaned_student_dataset.csv\")\n",
    "dataframe = pd.read_csv('cleaned_student_dataset.csv')\n",
    "print(dataframe)"
   ]
  }
 ],
 "metadata": {
  "kernelspec": {
   "display_name": "Python 3",
   "language": "python",
   "name": "python3"
  },
  "language_info": {
   "codemirror_mode": {
    "name": "ipython",
    "version": 3
   },
   "file_extension": ".py",
   "mimetype": "text/x-python",
   "name": "python",
   "nbconvert_exporter": "python",
   "pygments_lexer": "ipython3",
   "version": "3.13.0"
  }
 },
 "nbformat": 4,
 "nbformat_minor": 2
}
